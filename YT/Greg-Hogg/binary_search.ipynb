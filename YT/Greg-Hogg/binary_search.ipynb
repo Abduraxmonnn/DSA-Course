{
  "nbformat": 4,
  "nbformat_minor": 0,
  "metadata": {
    "colab": {
      "provenance": [],
      "include_colab_link": true
    },
    "kernelspec": {
      "name": "python3",
      "display_name": "Python 3"
    },
    "language_info": {
      "name": "python"
    }
  },
  "cells": [
    {
      "cell_type": "markdown",
      "metadata": {
        "id": "view-in-github",
        "colab_type": "text"
      },
      "source": [
        "<a href=\"https://colab.research.google.com/github/Abduraxmonnn/DSA-Course/blob/main/YT/Greg-Hogg/binary_search.ipynb\" target=\"_parent\"><img src=\"https://colab.research.google.com/assets/colab-badge.svg\" alt=\"Open In Colab\"/></a>"
      ]
    },
    {
      "cell_type": "code",
      "execution_count": 2,
      "metadata": {
        "id": "FlJ1-8QZViMa",
        "colab": {
          "base_uri": "https://localhost:8080/"
        },
        "outputId": "f517d37a-9e6c-438f-d317-7464a98479d0"
      },
      "outputs": [
        {
          "output_type": "stream",
          "name": "stdout",
          "text": [
            "True\n"
          ]
        }
      ],
      "source": [
        "A = [-3, -1, 0, 1, 4, 7]\n",
        "\n",
        "# Naive O(n) searching\n",
        "if 7 in A:\n",
        "  print(True)"
      ]
    },
    {
      "cell_type": "code",
      "source": [
        "# Traditional Binary Search - Looking up if number is in array:\n",
        "# Time: O(log n)\n",
        "# Space: O(1)\n",
        "\n",
        "def binary_search(arr, target):\n",
        "  N = len(arr)\n",
        "  L = 0\n",
        "  R = N - 1\n",
        "\n",
        "  while L <= R:\n",
        "    # M = (L + R) // 2  # basic formula\n",
        "    M = L + ((R-L) // 2)  # formula for avoid overflow numbers\n",
        "\n",
        "    if arr[M] == target:\n",
        "      return True\n",
        "    elif target < arr[M]:\n",
        "      R = M - 1\n",
        "    else:\n",
        "      L = M + 1\n",
        "\n",
        "  return False\n",
        "\n",
        "binary_search(A, -3)"
      ],
      "metadata": {
        "colab": {
          "base_uri": "https://localhost:8080/"
        },
        "id": "YwA_239uVvix",
        "outputId": "fa30911d-55bc-408c-9a1a-213f6598da72"
      },
      "execution_count": 4,
      "outputs": [
        {
          "output_type": "execute_result",
          "data": {
            "text/plain": [
              "True"
            ]
          },
          "metadata": {},
          "execution_count": 4
        }
      ]
    },
    {
      "cell_type": "code",
      "source": [
        "# Condition based\n",
        "B = [False, False, False, True, True]\n",
        "\n",
        "def binary_search_condition(arr):\n",
        "  N = len(arr)\n",
        "  L = 0\n",
        "  R = N - 1\n",
        "\n",
        "  while L < R:\n",
        "    M = (L + R) // 2\n",
        "\n",
        "    if arr[M]:\n",
        "      R = M\n",
        "    else:\n",
        "      L = M + 1\n",
        "\n",
        "  return L\n",
        "\n",
        "binary_search_condition(B)"
      ],
      "metadata": {
        "colab": {
          "base_uri": "https://localhost:8080/"
        },
        "id": "B9Gy0p0wZ9cF",
        "outputId": "4ea37f81-cac9-4494-fe79-853c297243e2"
      },
      "execution_count": 6,
      "outputs": [
        {
          "output_type": "execute_result",
          "data": {
            "text/plain": [
              "3"
            ]
          },
          "metadata": {},
          "execution_count": 6
        }
      ]
    },
    {
      "cell_type": "code",
      "source": [
        "# Range-Based\n",
        "\n",
        "def guess_number(target, L, R):\n",
        "    while L <= R:\n",
        "        M = (L + R) // 2\n",
        "        if M == target:\n",
        "            return M  # Found the number\n",
        "        elif M < target:\n",
        "            L = M + 1\n",
        "        else:\n",
        "            R = M - 1\n",
        "    return -1  # Target not found\n",
        "\n",
        "\n",
        "target = 10\n",
        "result = guess_number(target, 1, 100)\n",
        "print(f\"The guessed number is: {result}\")"
      ],
      "metadata": {
        "colab": {
          "base_uri": "https://localhost:8080/"
        },
        "id": "2vIseXsgJfY5",
        "outputId": "6bf0bda1-2339-4e28-a1fb-567c76fafbf0"
      },
      "execution_count": 8,
      "outputs": [
        {
          "output_type": "stream",
          "name": "stdout",
          "text": [
            "The guessed number is: 10\n"
          ]
        }
      ]
    }
  ]
}