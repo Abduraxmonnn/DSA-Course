{
  "nbformat": 4,
  "nbformat_minor": 0,
  "metadata": {
    "colab": {
      "provenance": [],
      "include_colab_link": true
    },
    "kernelspec": {
      "name": "python3",
      "display_name": "Python 3"
    },
    "language_info": {
      "name": "python"
    }
  },
  "cells": [
    {
      "cell_type": "markdown",
      "metadata": {
        "id": "view-in-github",
        "colab_type": "text"
      },
      "source": [
        "<a href=\"https://colab.research.google.com/github/Abduraxmonnn/DSA-Course/blob/main/YT/Greg-Hogg/hashmaps_and_hashsets.ipynb\" target=\"_parent\"><img src=\"https://colab.research.google.com/assets/colab-badge.svg\" alt=\"Open In Colab\"/></a>"
      ]
    },
    {
      "cell_type": "code",
      "execution_count": 1,
      "metadata": {
        "colab": {
          "base_uri": "https://localhost:8080/"
        },
        "id": "xIrDzGEC9IDx",
        "outputId": "a75d4827-e494-4eea-cc6b-fc87c7e8fd92"
      },
      "outputs": [
        {
          "output_type": "stream",
          "name": "stdout",
          "text": [
            "set()\n"
          ]
        }
      ],
      "source": [
        "# Hashsets\n",
        "\n",
        "s = set()\n",
        "print(s)"
      ]
    },
    {
      "cell_type": "code",
      "source": [
        "# Add item into Set - O(1)\n",
        "s.add(1)\n",
        "s.add(2)\n",
        "s.add(3)\n",
        "\n",
        "print(s)"
      ],
      "metadata": {
        "colab": {
          "base_uri": "https://localhost:8080/"
        },
        "id": "67nPv_Ka98eu",
        "outputId": "abf6e81e-3809-4d7b-ca09-3fbfedbf93b2"
      },
      "execution_count": 2,
      "outputs": [
        {
          "output_type": "stream",
          "name": "stdout",
          "text": [
            "{1, 2, 3}\n"
          ]
        }
      ]
    },
    {
      "cell_type": "code",
      "source": [
        "# Lookup if item in set - O(1)\n",
        "if 1 in s:\n",
        "  print(True)"
      ],
      "metadata": {
        "id": "YG4iR3ig-K5Q",
        "colab": {
          "base_uri": "https://localhost:8080/"
        },
        "outputId": "e0877b5e-9e32-404f-ae26-793ee3f0e2ca"
      },
      "execution_count": 4,
      "outputs": [
        {
          "output_type": "stream",
          "name": "stdout",
          "text": [
            "True\n"
          ]
        }
      ]
    },
    {
      "cell_type": "code",
      "source": [
        "# Remove item from set - O(1)\n",
        "s.remove(3)\n",
        "\n",
        "print(s)"
      ],
      "metadata": {
        "colab": {
          "base_uri": "https://localhost:8080/"
        },
        "id": "JQSMRLA0-fEp",
        "outputId": "bb5bd6ac-2ee1-4564-9b05-0ffe2e26c2b3"
      },
      "execution_count": 5,
      "outputs": [
        {
          "output_type": "stream",
          "name": "stdout",
          "text": [
            "{1, 2}\n"
          ]
        }
      ]
    },
    {
      "cell_type": "code",
      "source": [
        "# Set construction - O(S) - S is the length of the string\n",
        "string = 'aaaaaaabbbbbbbbbbbccccccccceeeeeeeee'\n",
        "sett = set(string)\n",
        "\n",
        "sett"
      ],
      "metadata": {
        "colab": {
          "base_uri": "https://localhost:8080/"
        },
        "id": "RkxoAEjU-sYJ",
        "outputId": "bdf00dea-a7db-49d2-a9e6-021001dd1598"
      },
      "execution_count": 6,
      "outputs": [
        {
          "output_type": "execute_result",
          "data": {
            "text/plain": [
              "{'a', 'b', 'c', 'e'}"
            ]
          },
          "metadata": {},
          "execution_count": 6
        }
      ]
    },
    {
      "cell_type": "code",
      "source": [
        "# Loop over items in set - O(n)\n",
        "for x in s:\n",
        "  print(x)"
      ],
      "metadata": {
        "colab": {
          "base_uri": "https://localhost:8080/"
        },
        "id": "VSOIxmqk_WTV",
        "outputId": "4c522cce-6ba9-4877-88ec-c6c193ce90b4"
      },
      "execution_count": 7,
      "outputs": [
        {
          "output_type": "stream",
          "name": "stdout",
          "text": [
            "1\n",
            "2\n"
          ]
        }
      ]
    },
    {
      "cell_type": "code",
      "source": [
        "# Hashmaps - Dictionaries\n",
        "\n",
        "d = {'greg': 1, 'steve': 2, 'rob': 3}\n",
        "\n",
        "print(d)"
      ],
      "metadata": {
        "colab": {
          "base_uri": "https://localhost:8080/"
        },
        "id": "Qa4O32ah_wPv",
        "outputId": "afb9bd46-7dc3-454f-96d4-bc529c0a4207"
      },
      "execution_count": 12,
      "outputs": [
        {
          "output_type": "stream",
          "name": "stdout",
          "text": [
            "{'greg': 1, 'steve': 2, 'rob': 3}\n"
          ]
        }
      ]
    },
    {
      "cell_type": "code",
      "source": [
        "# Add key:val in dictionary: O(1)\n",
        "d['arsh'] = 4\n",
        "\n",
        "print(d)"
      ],
      "metadata": {
        "colab": {
          "base_uri": "https://localhost:8080/"
        },
        "id": "Qt1ltzeMAPkz",
        "outputId": "2983e6d6-77a0-42b9-852f-96cd4235970a"
      },
      "execution_count": 13,
      "outputs": [
        {
          "output_type": "stream",
          "name": "stdout",
          "text": [
            "{'greg': 1, 'steve': 2, 'rob': 3, 'arsh': 4}\n"
          ]
        }
      ]
    },
    {
      "cell_type": "code",
      "source": [
        "# Check for presence of key in dictionary: O(1)\n",
        "if 'greg' not in d:\n",
        "  print(True)"
      ],
      "metadata": {
        "id": "6DA5u-jKAXjh"
      },
      "execution_count": 15,
      "outputs": []
    },
    {
      "cell_type": "code",
      "source": [
        "# Check the value corresponding to a key in the dictionary: O(1)\n",
        "print(d['greg'])"
      ],
      "metadata": {
        "colab": {
          "base_uri": "https://localhost:8080/"
        },
        "id": "c94jF_iZAfpA",
        "outputId": "342470da-4c1a-48f2-afd2-9dd5aa6e9ebd"
      },
      "execution_count": 16,
      "outputs": [
        {
          "output_type": "stream",
          "name": "stdout",
          "text": [
            "1\n"
          ]
        }
      ]
    },
    {
      "cell_type": "code",
      "source": [
        "# Loop over the key:val pairs of the dictionary: O(n)\n",
        "for key, val in d.items():\n",
        "  print(f'key {key}: val {val}')"
      ],
      "metadata": {
        "colab": {
          "base_uri": "https://localhost:8080/"
        },
        "id": "N-X5FGK3At08",
        "outputId": "84a0e74c-1db3-4110-d8ac-0eff1a9acfab"
      },
      "execution_count": 17,
      "outputs": [
        {
          "output_type": "stream",
          "name": "stdout",
          "text": [
            "key greg: val 1\n",
            "key steve: val 2\n",
            "key rob: val 3\n",
            "key arsh: val 4\n"
          ]
        }
      ]
    },
    {
      "cell_type": "code",
      "source": [
        "# Defaultdict\n",
        "\n",
        "from collections import defaultdict\n",
        "\n",
        "default = defaultdict(int)\n",
        "\n",
        "default[2]\n",
        "default[3]\n",
        "\n",
        "print(default)"
      ],
      "metadata": {
        "colab": {
          "base_uri": "https://localhost:8080/"
        },
        "id": "b0aVRGmnBSta",
        "outputId": "80919341-d5da-46c7-8065-efd375eb82e6"
      },
      "execution_count": 26,
      "outputs": [
        {
          "output_type": "stream",
          "name": "stdout",
          "text": [
            "defaultdict(<class 'int'>, {2: 0, 3: 0})\n"
          ]
        }
      ]
    },
    {
      "cell_type": "code",
      "source": [
        "default[2] = 1\n",
        "\n",
        "print(default)"
      ],
      "metadata": {
        "colab": {
          "base_uri": "https://localhost:8080/"
        },
        "id": "0lNcJIuX_UBz",
        "outputId": "04f08a69-4f83-432d-a6c7-cf8c9b3fee3f"
      },
      "execution_count": 27,
      "outputs": [
        {
          "output_type": "stream",
          "name": "stdout",
          "text": [
            "defaultdict(<class 'int'>, {2: 1, 3: 0})\n"
          ]
        }
      ]
    },
    {
      "cell_type": "code",
      "source": [
        "# Counter\n",
        "from collections import Counter\n",
        "\n",
        "counter = Counter(string)\n",
        "\n",
        "print(counter)"
      ],
      "metadata": {
        "id": "YM5y0IXnCOZm",
        "colab": {
          "base_uri": "https://localhost:8080/"
        },
        "outputId": "76548e8d-9fe3-4bd1-c780-11039fd5df7c"
      },
      "execution_count": 28,
      "outputs": [
        {
          "output_type": "stream",
          "name": "stdout",
          "text": [
            "Counter({'b': 11, 'c': 9, 'e': 9, 'a': 7})\n"
          ]
        }
      ]
    }
  ]
}