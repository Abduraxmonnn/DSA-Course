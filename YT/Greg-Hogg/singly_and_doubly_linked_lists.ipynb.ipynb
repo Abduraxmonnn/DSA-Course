{
  "nbformat": 4,
  "nbformat_minor": 0,
  "metadata": {
    "colab": {
      "provenance": [],
      "include_colab_link": true
    },
    "kernelspec": {
      "name": "python3",
      "display_name": "Python 3"
    },
    "language_info": {
      "name": "python"
    }
  },
  "cells": [
    {
      "cell_type": "markdown",
      "metadata": {
        "id": "view-in-github",
        "colab_type": "text"
      },
      "source": [
        "<a href=\"https://colab.research.google.com/github/Abduraxmonnn/DSA-Course/blob/main/YT/Greg-Hogg/singly_and_doubly_linked_lists.ipynb.ipynb\" target=\"_parent\"><img src=\"https://colab.research.google.com/assets/colab-badge.svg\" alt=\"Open In Colab\"/></a>"
      ]
    },
    {
      "cell_type": "code",
      "execution_count": 1,
      "metadata": {
        "id": "5fn9_iiHT9-k"
      },
      "outputs": [],
      "source": [
        "# Singly Linked Lists\n",
        "\n",
        "class SinglyNode:\n",
        "\n",
        "  def __init__(self, val, next=None):\n",
        "    self.val = val\n",
        "    self.next = next\n",
        "\n",
        "  def __str__(self):\n",
        "    return str(self.val)"
      ]
    },
    {
      "cell_type": "code",
      "source": [
        "Head = SinglyNode(1)\n",
        "A = SinglyNode(3)\n",
        "B = SinglyNode(4)\n",
        "C = SinglyNode(7)\n",
        "\n",
        "Head.next = A\n",
        "A.next = B\n",
        "B.next = C\n",
        "\n",
        "print(Head)"
      ],
      "metadata": {
        "colab": {
          "base_uri": "https://localhost:8080/"
        },
        "id": "rCVirKAqU4HF",
        "outputId": "da6710c2-4237-4436-c032-c401d44296af"
      },
      "execution_count": 2,
      "outputs": [
        {
          "output_type": "stream",
          "name": "stdout",
          "text": [
            "1\n"
          ]
        }
      ]
    },
    {
      "cell_type": "code",
      "source": [
        "# Traverse the list - O(n)\n",
        "curr = Head\n",
        "\n",
        "while curr:\n",
        "  print(curr)\n",
        "  curr = curr.next"
      ],
      "metadata": {
        "colab": {
          "base_uri": "https://localhost:8080/"
        },
        "id": "oRCXNAkSVMPZ",
        "outputId": "d5d6b900-02e6-4482-bf52-477d9d21c7b2"
      },
      "execution_count": 3,
      "outputs": [
        {
          "output_type": "stream",
          "name": "stdout",
          "text": [
            "1\n",
            "3\n",
            "4\n",
            "7\n"
          ]
        }
      ]
    },
    {
      "cell_type": "code",
      "source": [
        "# Diplay linked list - O(n)\n",
        "def display(head):\n",
        "  curr = head\n",
        "  elements = []\n",
        "  while curr:\n",
        "    elements.append(str(curr.val))\n",
        "    curr = curr.next\n",
        "  print(' -> '.join(elements))\n",
        "\n",
        "display(Head)"
      ],
      "metadata": {
        "colab": {
          "base_uri": "https://localhost:8080/"
        },
        "id": "UjMNwpn1VaNH",
        "outputId": "d119a84d-1e52-439e-e889-54ec6ba83cc7"
      },
      "execution_count": null,
      "outputs": [
        {
          "output_type": "stream",
          "name": "stdout",
          "text": [
            "1 -> 3 -> 4 -> 7\n"
          ]
        }
      ]
    },
    {
      "cell_type": "code",
      "source": [
        "# Search for node value - O(n)\n",
        "def search(head, val):\n",
        "  curr = head\n",
        "  while curr:\n",
        "    if val == curr.val:\n",
        "      return True\n",
        "    curr = curr.next\n",
        "\n",
        "  return False\n",
        "\n",
        "search(Head, 7)"
      ],
      "metadata": {
        "colab": {
          "base_uri": "https://localhost:8080/"
        },
        "id": "JZ2t1LsYWC7F",
        "outputId": "b9867ca5-433f-439b-9dd7-ccbf01532651"
      },
      "execution_count": null,
      "outputs": [
        {
          "output_type": "execute_result",
          "data": {
            "text/plain": [
              "True"
            ]
          },
          "metadata": {},
          "execution_count": 9
        }
      ]
    },
    {
      "cell_type": "code",
      "source": [
        "# Doubly Linked Lists\n",
        "\n",
        "class DoublyNode:\n",
        "  def __init__(self, val, next=None, prev=None):\n",
        "    self.val = val\n",
        "    self.next = next\n",
        "    self.prev = prev\n",
        "\n",
        "  def __str__(self):\n",
        "    return str(self.val)"
      ],
      "metadata": {
        "id": "NTxqi-LMWVTT"
      },
      "execution_count": 4,
      "outputs": []
    },
    {
      "cell_type": "code",
      "source": [
        "head = DoublyNode(1)\n",
        "A = DoublyNode(3)\n",
        "B = DoublyNode(4)\n",
        "C = DoublyNode(7)\n",
        "\n",
        "head.next = A\n",
        "A.next = B\n",
        "A.prev = head\n",
        "B.next = C\n",
        "B.prev = A\n",
        "tail = C\n",
        "print(A.prev)"
      ],
      "metadata": {
        "colab": {
          "base_uri": "https://localhost:8080/"
        },
        "id": "X1JrYKQlWzIk",
        "outputId": "7c67ba64-3469-454f-ba57-5e18cb937d4d"
      },
      "execution_count": 13,
      "outputs": [
        {
          "output_type": "stream",
          "name": "stdout",
          "text": [
            "1\n"
          ]
        }
      ]
    },
    {
      "cell_type": "code",
      "source": [
        "# Display - O(n)\n",
        "def display(head):\n",
        "  curr = head\n",
        "  elements = []\n",
        "  while curr:\n",
        "    elements.append(str(curr.val))\n",
        "    curr = curr.next\n",
        "  print(' <-> '.join(elements))\n",
        "\n",
        "display(head)"
      ],
      "metadata": {
        "colab": {
          "base_uri": "https://localhost:8080/"
        },
        "id": "Mb5z9hPgW28E",
        "outputId": "fe847c8e-f9fa-4074-8036-631ba1a188e3"
      },
      "execution_count": 14,
      "outputs": [
        {
          "output_type": "stream",
          "name": "stdout",
          "text": [
            "1 <-> 3 <-> 4 <-> 7\n"
          ]
        }
      ]
    },
    {
      "cell_type": "code",
      "source": [
        "# Insert at beginning - O(1)\n",
        "def insert_at_beginning(head, tail, val):\n",
        "  new_node = DoublyNode(val, next=head)\n",
        "  head.prev = new_node\n",
        "  return new_node, tail\n",
        "\n",
        "head, tail = insert_at_beginning(head, tail, 5)\n",
        "display(head)"
      ],
      "metadata": {
        "colab": {
          "base_uri": "https://localhost:8080/"
        },
        "id": "AKWYlHVXXb7T",
        "outputId": "0c006268-6dea-4d3d-9ead-fd0564af3f74"
      },
      "execution_count": 16,
      "outputs": [
        {
          "output_type": "stream",
          "name": "stdout",
          "text": [
            "5 <-> 3 <-> 1 <-> 3 <-> 4 <-> 7\n"
          ]
        }
      ]
    },
    {
      "cell_type": "code",
      "source": [
        "# Insert at end - O(1)\n",
        "def insert_at_end(head, tail, val):\n",
        "    new_node = DoublyNode(val, prev=tail)\n",
        "    tail.next = new_node\n",
        "    return head, new_node\n",
        "\n",
        "head, tail = insert_at_end(head, tail, 11)\n",
        "display(head)"
      ],
      "metadata": {
        "colab": {
          "base_uri": "https://localhost:8080/"
        },
        "id": "7xHxKYiyX_DC",
        "outputId": "e89a8b6c-5501-47f5-c0f3-71bdccb43239"
      },
      "execution_count": 18,
      "outputs": [
        {
          "output_type": "stream",
          "name": "stdout",
          "text": [
            "5 <-> 3 <-> 1 <-> 3 <-> 4 <-> 7 <-> 7 <-> 11\n"
          ]
        }
      ]
    },
    {
      "cell_type": "code",
      "source": [],
      "metadata": {
        "id": "jgZ02dQDYQ1q"
      },
      "execution_count": null,
      "outputs": []
    }
  ]
}