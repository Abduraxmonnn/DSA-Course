{
  "nbformat": 4,
  "nbformat_minor": 0,
  "metadata": {
    "colab": {
      "provenance": [],
      "include_colab_link": true
    },
    "kernelspec": {
      "name": "python3",
      "display_name": "Python 3"
    },
    "language_info": {
      "name": "python"
    }
  },
  "cells": [
    {
      "cell_type": "markdown",
      "metadata": {
        "id": "view-in-github",
        "colab_type": "text"
      },
      "source": [
        "<a href=\"https://colab.research.google.com/github/Abduraxmonnn/DSA-Course/blob/main/YT/Greg-Hogg/stacks_and_aueues.ipynb\" target=\"_parent\"><img src=\"https://colab.research.google.com/assets/colab-badge.svg\" alt=\"Open In Colab\"/></a>"
      ]
    },
    {
      "cell_type": "code",
      "execution_count": 1,
      "metadata": {
        "colab": {
          "base_uri": "https://localhost:8080/"
        },
        "id": "FpzBfohcUF1r",
        "outputId": "4378c371-00f2-462c-cb2c-8f110cc01565"
      },
      "outputs": [
        {
          "output_type": "stream",
          "name": "stdout",
          "text": [
            "[]\n"
          ]
        }
      ],
      "source": [
        "# Stacks - Last in First Out (Lifo)\n",
        "\n",
        "stk = []\n",
        "print(stk)"
      ]
    },
    {
      "cell_type": "code",
      "source": [
        "# Append to top of stack - O(1)\n",
        "stk.append(5)"
      ],
      "metadata": {
        "id": "gi5seLX5UQSq"
      },
      "execution_count": 2,
      "outputs": []
    },
    {
      "cell_type": "code",
      "source": [
        "stk.append(4)\n",
        "stk.append(3)\n",
        "stk.append(7)\n",
        "stk.append(8)\n",
        "\n",
        "stk"
      ],
      "metadata": {
        "colab": {
          "base_uri": "https://localhost:8080/"
        },
        "id": "vSopofToUbWa",
        "outputId": "1167c8dc-8735-47d2-db0d-92b4b8d08db3"
      },
      "execution_count": 3,
      "outputs": [
        {
          "output_type": "execute_result",
          "data": {
            "text/plain": [
              "[5, 4, 3, 7, 8]"
            ]
          },
          "metadata": {},
          "execution_count": 3
        }
      ]
    },
    {
      "cell_type": "code",
      "source": [
        "# Pop from stack - O(1)\n",
        "x = stk.pop()  # pop() takes and stores an element in a variable\n",
        "\n",
        "print(x)\n",
        "print(stk)"
      ],
      "metadata": {
        "colab": {
          "base_uri": "https://localhost:8080/"
        },
        "id": "F4aO2IcGUjVf",
        "outputId": "b511b73b-7acb-411b-e530-d6d248109aee"
      },
      "execution_count": 4,
      "outputs": [
        {
          "output_type": "stream",
          "name": "stdout",
          "text": [
            "8\n",
            "[5, 4, 3, 7]\n"
          ]
        }
      ]
    },
    {
      "cell_type": "code",
      "source": [
        "# Ask what's on the top of stack - O(1)\n",
        "print(stk[-1])"
      ],
      "metadata": {
        "colab": {
          "base_uri": "https://localhost:8080/"
        },
        "id": "LdfdPILFUzFr",
        "outputId": "fb09bd3a-ad77-4f36-8ba3-667ae4c0b32c"
      },
      "execution_count": 5,
      "outputs": [
        {
          "output_type": "stream",
          "name": "stdout",
          "text": [
            "7\n"
          ]
        }
      ]
    },
    {
      "cell_type": "code",
      "source": [
        "# Ask if something is in the stack - O(1)\n",
        "if stk:\n",
        "  print(True)"
      ],
      "metadata": {
        "colab": {
          "base_uri": "https://localhost:8080/"
        },
        "id": "bkAC1iMmU87b",
        "outputId": "4200f633-ca1a-4313-bb6c-a110079de470"
      },
      "execution_count": 6,
      "outputs": [
        {
          "output_type": "stream",
          "name": "stdout",
          "text": [
            "True\n"
          ]
        }
      ]
    },
    {
      "cell_type": "code",
      "source": [
        "# Queues - First in First out (Fifo)\n",
        "\n",
        "from collections import deque\n",
        "\n",
        "q = deque()  # create empty queues (double linked list)\n",
        "\n",
        "print(q)"
      ],
      "metadata": {
        "colab": {
          "base_uri": "https://localhost:8080/"
        },
        "id": "xMM84zW-VHw5",
        "outputId": "4ab409ec-48a7-4c4c-cf9d-d3a4f056dd17"
      },
      "execution_count": 8,
      "outputs": [
        {
          "output_type": "stream",
          "name": "stdout",
          "text": [
            "deque([])\n"
          ]
        }
      ]
    },
    {
      "cell_type": "code",
      "source": [
        "# Enqueue - Add element to the right - O(1)\n",
        "q.append(5)\n",
        "q.append(6)\n",
        "q.append(7)\n",
        "q.append(8)\n",
        "q.append(9)\n",
        "q"
      ],
      "metadata": {
        "colab": {
          "base_uri": "https://localhost:8080/"
        },
        "id": "xZP1HA04WBZ2",
        "outputId": "cdd50f43-231c-4a86-83e7-6e3a39841e07"
      },
      "execution_count": 10,
      "outputs": [
        {
          "output_type": "execute_result",
          "data": {
            "text/plain": [
              "deque([5, 6, 7, 5, 6, 7, 8, 9])"
            ]
          },
          "metadata": {},
          "execution_count": 10
        }
      ]
    },
    {
      "cell_type": "code",
      "source": [
        "# Deqeue (pop left) - Remove element from the left - O(1)\n",
        "q.popleft()"
      ],
      "metadata": {
        "colab": {
          "base_uri": "https://localhost:8080/"
        },
        "id": "YzrhQEyhWmDD",
        "outputId": "9523f3fe-28a0-4eba-fc14-58bda20c9b27"
      },
      "execution_count": 14,
      "outputs": [
        {
          "output_type": "execute_result",
          "data": {
            "text/plain": [
              "6"
            ]
          },
          "metadata": {},
          "execution_count": 14
        }
      ]
    },
    {
      "cell_type": "code",
      "source": [
        "q"
      ],
      "metadata": {
        "colab": {
          "base_uri": "https://localhost:8080/"
        },
        "id": "A-AWeJ3UXOEg",
        "outputId": "08211ae2-207c-4274-bdca-b2d1590009d9"
      },
      "execution_count": 15,
      "outputs": [
        {
          "output_type": "execute_result",
          "data": {
            "text/plain": [
              "deque([7, 5, 6, 7, 8, 9])"
            ]
          },
          "metadata": {},
          "execution_count": 15
        }
      ]
    },
    {
      "cell_type": "code",
      "source": [
        "# Peek from left side - O(1)\n",
        "q[0]"
      ],
      "metadata": {
        "colab": {
          "base_uri": "https://localhost:8080/"
        },
        "id": "ZacXohYWW-dU",
        "outputId": "47f31d51-55ea-4b29-c876-25db61557c73"
      },
      "execution_count": 16,
      "outputs": [
        {
          "output_type": "execute_result",
          "data": {
            "text/plain": [
              "7"
            ]
          },
          "metadata": {},
          "execution_count": 16
        }
      ]
    },
    {
      "cell_type": "code",
      "source": [
        "# Peek from right side - O(1)\n",
        "q[-1]"
      ],
      "metadata": {
        "colab": {
          "base_uri": "https://localhost:8080/"
        },
        "id": "zz13KDb1XDJE",
        "outputId": "efd4c451-3a78-4369-ecf8-125893839afa"
      },
      "execution_count": 17,
      "outputs": [
        {
          "output_type": "execute_result",
          "data": {
            "text/plain": [
              "9"
            ]
          },
          "metadata": {},
          "execution_count": 17
        }
      ]
    },
    {
      "cell_type": "code",
      "source": [],
      "metadata": {
        "id": "gRmB8rQlXTMj"
      },
      "execution_count": null,
      "outputs": []
    }
  ]
}